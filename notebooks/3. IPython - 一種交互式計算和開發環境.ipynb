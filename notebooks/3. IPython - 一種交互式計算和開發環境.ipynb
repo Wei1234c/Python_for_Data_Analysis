{
 "cells": [
  {
   "cell_type": "markdown",
   "metadata": {},
   "source": [
    "# 3. IPython - 一種交互式計算和開發環境#"
   ]
  },
  {
   "cell_type": "markdown",
   "metadata": {},
   "source": [
    "Tab鍵自動完成"
   ]
  },
  {
   "cell_type": "code",
   "execution_count": 25,
   "metadata": {
    "collapsed": false
   },
   "outputs": [
    {
     "data": {
      "text/plain": [
       "[1, 2, 3]"
      ]
     },
     "execution_count": 25,
     "metadata": {},
     "output_type": "execute_result"
    }
   ],
   "source": [
    "b = [1,2,3]\n",
    "b"
   ]
  },
  {
   "cell_type": "code",
   "execution_count": 5,
   "metadata": {
    "collapsed": false
   },
   "outputs": [],
   "source": [
    "#b.<tab>"
   ]
  },
  {
   "cell_type": "code",
   "execution_count": 11,
   "metadata": {
    "collapsed": false
   },
   "outputs": [
    {
     "ename": "SyntaxError",
     "evalue": "invalid syntax (<ipython-input-11-2711611d2886>, line 2)",
     "output_type": "error",
     "traceback": [
      "\u001b[1;36m  File \u001b[1;32m\"<ipython-input-11-2711611d2886>\"\u001b[1;36m, line \u001b[1;32m2\u001b[0m\n\u001b[1;33m    Temp(/<tab>)\u001b[0m\n\u001b[1;37m         ^\u001b[0m\n\u001b[1;31mSyntaxError\u001b[0m\u001b[1;31m:\u001b[0m invalid syntax\n"
     ]
    }
   ],
   "source": [
    "# 在任何類似文件路徑之後輸入tab鍵，就會顯示相匹配的文件清單\n",
    "# /Temp/<tab>"
   ]
  },
  {
   "cell_type": "markdown",
   "metadata": {},
   "source": [
    "### 內省(Object Introspection) \n",
    "\n",
    "在變數之前或之後加一個?問號，即可顯示相關的通用訊息"
   ]
  },
  {
   "cell_type": "code",
   "execution_count": 26,
   "metadata": {
    "collapsed": false
   },
   "outputs": [],
   "source": [
    "b?"
   ]
  },
  {
   "cell_type": "code",
   "execution_count": 27,
   "metadata": {
    "collapsed": true
   },
   "outputs": [],
   "source": [
    "def add_number(a, b):\n",
    "    \"\"\"\n",
    "    Add two numbers together\n",
    "    \n",
    "    Returns\n",
    "    _______\n",
    "    \n",
    "    the sum: typeof arguments\n",
    "    \n",
    "    \"\"\"\n",
    "    return a + b"
   ]
  },
  {
   "cell_type": "code",
   "execution_count": 28,
   "metadata": {
    "collapsed": true
   },
   "outputs": [],
   "source": [
    "add_number?"
   ]
  },
  {
   "cell_type": "markdown",
   "metadata": {},
   "source": [
    "使用??還可以顯示該函式的 source code"
   ]
  },
  {
   "cell_type": "code",
   "execution_count": 29,
   "metadata": {
    "collapsed": true
   },
   "outputs": [],
   "source": [
    "add_number??"
   ]
  },
  {
   "cell_type": "code",
   "execution_count": 30,
   "metadata": {
    "collapsed": true
   },
   "outputs": [],
   "source": [
    "max??"
   ]
  },
  {
   "cell_type": "markdown",
   "metadata": {},
   "source": [
    "?問號還可以用來搜尋IPython namespace"
   ]
  },
  {
   "cell_type": "code",
   "execution_count": 31,
   "metadata": {
    "collapsed": false
   },
   "outputs": [],
   "source": [
    "# ?問號還可以用來搜尋IPython namespace\n",
    "import numpy as np\n",
    "np.*load*?"
   ]
  },
  {
   "cell_type": "markdown",
   "metadata": {},
   "source": [
    "% 命令\n",
    "\n",
    "所有的文件都可以透過 %run 命令當作Python程序來運行"
   ]
  },
  {
   "cell_type": "code",
   "execution_count": 32,
   "metadata": {
    "collapsed": false
   },
   "outputs": [
    {
     "name": "stdout",
     "output_type": "stream",
     "text": [
      "Hello!\n"
     ]
    }
   ],
   "source": [
    "%run test.py"
   ]
  },
  {
   "cell_type": "code",
   "execution_count": 33,
   "metadata": {
    "collapsed": false
   },
   "outputs": [
    {
     "name": "stdout",
     "output_type": "stream",
     "text": [
      "Hello!\n"
     ]
    }
   ],
   "source": [
    "# -i 讓 test.py可以訪問IPython交互式環境(命稱: interactive)中定義的變數\n",
    "%run -i test.py "
   ]
  },
  {
   "cell_type": "markdown",
   "metadata": {},
   "source": [
    "control-C 可以引發 KeyboradInterrupt，中斷程式的執行"
   ]
  },
  {
   "cell_type": "markdown",
   "metadata": {},
   "source": [
    "### 執行clip board中的代碼 "
   ]
  },
  {
   "cell_type": "code",
   "execution_count": 34,
   "metadata": {
    "collapsed": false
   },
   "outputs": [
    {
     "name": "stderr",
     "output_type": "stream",
     "text": [
      "ERROR: Line magic function `%paste` not found.\n"
     ]
    }
   ],
   "source": [
    "%paste"
   ]
  },
  {
   "cell_type": "code",
   "execution_count": 35,
   "metadata": {
    "collapsed": false
   },
   "outputs": [
    {
     "name": "stderr",
     "output_type": "stream",
     "text": [
      "ERROR: Line magic function `%cpaste` not found.\n"
     ]
    }
   ],
   "source": [
    "%cpaste"
   ]
  },
  {
   "cell_type": "markdown",
   "metadata": {},
   "source": [
    "### 魔術命令 "
   ]
  },
  {
   "cell_type": "code",
   "execution_count": 38,
   "metadata": {
    "collapsed": true
   },
   "outputs": [],
   "source": [
    "# 顯示IPython的快速參考\n",
    "%quickref"
   ]
  },
  {
   "cell_type": "code",
   "execution_count": 39,
   "metadata": {
    "collapsed": true
   },
   "outputs": [],
   "source": [
    "# 用 ? 可以查看 options\n",
    "%reset?"
   ]
  },
  {
   "cell_type": "code",
   "execution_count": 40,
   "metadata": {
    "collapsed": true
   },
   "outputs": [],
   "source": [
    "# 顯示所有的魔術命令的詳細文件\n",
    "%magic"
   ]
  },
  {
   "cell_type": "code",
   "execution_count": 41,
   "metadata": {
    "collapsed": false
   },
   "outputs": [
    {
     "name": "stdout",
     "output_type": "stream",
     "text": [
      "> \u001b[1;32m<ipython-input-20-f52d32254dcb>\u001b[0m(2)\u001b[0;36m<module>\u001b[1;34m()\u001b[0m\n",
      "\u001b[1;32m      1 \u001b[1;33m\u001b[1;32mimport\u001b[0m \u001b[0msys\u001b[0m\u001b[1;33m\u001b[0m\u001b[0m\n",
      "\u001b[0m\u001b[1;32m----> 2 \u001b[1;33m\u001b[0msys\u001b[0m\u001b[1;33m.\u001b[0m\u001b[0mreload\u001b[0m\u001b[1;33m(\u001b[0m\u001b[0msys\u001b[0m\u001b[1;33m)\u001b[0m\u001b[1;33m\u001b[0m\u001b[0m\n",
      "\u001b[0m\n",
      "ipdb> \n",
      "--KeyboardInterrupt--\n",
      "ipdb> \n",
      "ipdb> exit()\n",
      "--KeyboardInterrupt--\n",
      "ipdb> exit()\n"
     ]
    }
   ],
   "source": [
    "# 以最新的異常跟蹤的底部進入交互式interpreter\n",
    "%debug"
   ]
  },
  {
   "cell_type": "code",
   "execution_count": 42,
   "metadata": {
    "collapsed": false
   },
   "outputs": [
    {
     "name": "stdout",
     "output_type": "stream",
     "text": [
      "# %time 一次執行一個statement\n",
      "%time  print(\"hello\")\n",
      "# %timeit 執行一個statement n 次，求出平均執行時間\n",
      "%timeit -n 10 print(\"hello\")\n",
      "%timeit [x for x in range(100)]\n",
      "%run -m cProfile -s cumulative test.py\n",
      "# 使用 cProfile 模組\n",
      "%run -m cProfiletest.py\n",
      "# 使用 cProfile 模組\n",
      "%run -m cProfile test.py\n",
      "%run -m cProfile -s cumulative test.py\n",
      "%run -p -s cumulative test.py\n",
      "%run -p -s cumulative test.py\n",
      "%prun -l 7 -s cumulative test.py\n",
      "%prun -l 7 -s cumulative print(\"hello\")\n",
      "def printHello():\n",
      "    print(\"Hello\")\n",
      "    \n",
      "%prun -l 7 -s cumulative printHello\n",
      "def printHello():\n",
      "    print(\"Hello\")\n",
      "    \n",
      "%prun -l 7 -s cumulative printHello\n",
      "def printHello():\n",
      "    print(\"Hello\")\n",
      "    \n",
      "%prun -l 7 -s cumulative printHello\n",
      "# prun 指令，針對一個函式來計算\n",
      "def printHello():\n",
      "    print(\"Hello\")\n",
      "    \n",
      "%prun -l 7 -s cumulative printHello()\n",
      "# prun 指令，針對一個函式來計算\n",
      "def printHello():\n",
      "    print(\"Hello\")\n",
      "    \n",
      "%prun -l 7 -s cumulative printHello()\n",
      "# 針對一個或多個函式進行效能分析\n",
      "%lprun -f printHello()\n",
      "reload(sys)\n",
      "sys.reload(sys)\n",
      "import sys \n",
      "sys.reload(sys)\n",
      "import sys\n",
      "import imp\n",
      "imp.reload(sys)\n",
      "# prun 指令，針對一個函式來計算\n",
      "def printHello():\n",
      "    print(\"Hello\")\n",
      "    \n",
      "%prun -l 7 -s cumulative printHello()\n",
      "b?\n",
      "b?\n",
      "b = [1,2,3]\n",
      "b\n",
      "b?\n",
      "def add_number(a, b):\n",
      "    \"\"\"\n",
      "    Add two numbers together\n",
      "    \n",
      "    Returns\n",
      "    _______\n",
      "    \n",
      "    the sum: typeof arguments\n",
      "    \n",
      "    \"\"\"\n",
      "    return a + b\n",
      "add_number?\n",
      "add_number??\n",
      "max??\n",
      "# ?問號還可以用來搜尋IPython namespace\n",
      "import numpy as np\n",
      "np.*load*?\n",
      "%run test.py\n",
      "# -i 讓 test.py可以訪問IPython交互式環境(命稱: interactive)中定義的變數\n",
      "%run -i test.py\n",
      "%paste\n",
      "%cpaste\n",
      "# 顯示IPython的快速參考\n",
      "%quickref\n",
      "# 用 ? 可以查看 options\n",
      "%reset?\n",
      "# 顯示IPython的快速參考\n",
      "%quickref\n",
      "# 用 ? 可以查看 options\n",
      "%reset?\n",
      "# 顯示所有的魔術命令的詳細文件\n",
      "%magic\n",
      "# 以最新的異常跟蹤的底部進入交互式interpreter\n",
      "%debug\n",
      "# 列出指令歷史紀錄\n",
      "%hist\n"
     ]
    }
   ],
   "source": [
    "# 列出指令歷史紀錄\n",
    "%hist"
   ]
  },
  {
   "cell_type": "code",
   "execution_count": 43,
   "metadata": {
    "collapsed": false
   },
   "outputs": [
    {
     "name": "stdout",
     "output_type": "stream",
     "text": [
      "Automatic pdb calling has been turned ON\n"
     ]
    }
   ],
   "source": [
    "# 在異常發生後自動進入調適器\n",
    "%pdb"
   ]
  },
  {
   "cell_type": "code",
   "execution_count": 44,
   "metadata": {
    "collapsed": false
   },
   "outputs": [
    {
     "name": "stderr",
     "output_type": "stream",
     "text": [
      "ERROR: Line magic function `%paste` not found.\n"
     ]
    }
   ],
   "source": [
    "# 執行clip board中的代碼\n",
    "%paste"
   ]
  },
  {
   "cell_type": "code",
   "execution_count": 45,
   "metadata": {
    "collapsed": false
   },
   "outputs": [
    {
     "name": "stderr",
     "output_type": "stream",
     "text": [
      "ERROR: Line magic function `%cpaste` not found.\n"
     ]
    }
   ],
   "source": [
    "# 打開特殊提示符號，以便手工黏貼等待執行的clip board中的代碼\n",
    "%cpaste"
   ]
  },
  {
   "cell_type": "code",
   "execution_count": 48,
   "metadata": {
    "collapsed": false
   },
   "outputs": [
    {
     "name": "stdout",
     "output_type": "stream",
     "text": [
      "Once deleted, variables cannot be recovered. Proceed (y/[n])? y\n"
     ]
    }
   ],
   "source": [
    "# 刪除interactive命名空間中的全部變數\n",
    "%reset"
   ]
  },
  {
   "cell_type": "code",
   "execution_count": 49,
   "metadata": {
    "collapsed": false
   },
   "outputs": [
    {
     "name": "stdout",
     "output_type": "stream",
     "text": [
      "Object `Object` not found\n"
     ]
    }
   ],
   "source": [
    "# 通過分頁器打印輸出Object\n",
    "%page Object"
   ]
  },
  {
   "cell_type": "code",
   "execution_count": 50,
   "metadata": {
    "collapsed": false
   },
   "outputs": [
    {
     "name": "stdout",
     "output_type": "stream",
     "text": [
      "Hello!\n"
     ]
    }
   ],
   "source": [
    "# 執行腳本\n",
    "%run test.py"
   ]
  },
  {
   "cell_type": "code",
   "execution_count": 51,
   "metadata": {
    "collapsed": false
   },
   "outputs": [
    {
     "name": "stdout",
     "output_type": "stream",
     "text": [
      "Hello\n",
      " "
     ]
    }
   ],
   "source": [
    "# 透過cProfile執行statement，並打開分析器的輸出結果\n",
    "%prun print(\"Hello\")"
   ]
  },
  {
   "cell_type": "code",
   "execution_count": 52,
   "metadata": {
    "collapsed": false
   },
   "outputs": [
    {
     "name": "stdout",
     "output_type": "stream",
     "text": [
      "Hello\n",
      "Wall time: 0 ns\n"
     ]
    }
   ],
   "source": [
    "# 報告statement的執行時間\n",
    "%time print(\"Hello\")"
   ]
  },
  {
   "cell_type": "code",
   "execution_count": 53,
   "metadata": {
    "collapsed": false
   },
   "outputs": [
    {
     "name": "stdout",
     "output_type": "stream",
     "text": [
      "Hello\n",
      "Hello\n",
      "Hello\n",
      "1 loops, best of 3: 18.3 µs per loop\n"
     ]
    }
   ],
   "source": [
    "# 報告statement的平均執行時間，使用 -n 指定執行次數\n",
    "%timeit -n 1 print(\"Hello\")"
   ]
  },
  {
   "cell_type": "code",
   "execution_count": 54,
   "metadata": {
    "collapsed": false
   },
   "outputs": [
    {
     "name": "stdout",
     "output_type": "stream",
     "text": [
      "b\t \n"
     ]
    }
   ],
   "source": [
    "# 顯示interactive命名空間中定義的變數\n",
    "b = [1,2,3]\n",
    "%who"
   ]
  },
  {
   "cell_type": "code",
   "execution_count": 55,
   "metadata": {
    "collapsed": false
   },
   "outputs": [
    {
     "name": "stdout",
     "output_type": "stream",
     "text": [
      "Variable   Type    Data/Info\n",
      "----------------------------\n",
      "b          list    n=3\n"
     ]
    }
   ],
   "source": [
    "# 顯示interactive命名空間中定義的變數\n",
    "%whos"
   ]
  },
  {
   "cell_type": "code",
   "execution_count": 56,
   "metadata": {
    "collapsed": false
   },
   "outputs": [
    {
     "name": "stdout",
     "output_type": "stream",
     "text": [
      "Interactive namespace is empty.\n"
     ]
    }
   ],
   "source": [
    "# 刪除變數，並清除其在IPython中的物件上的一切引用\n",
    "%xdel b\n",
    "%whos"
   ]
  },
  {
   "cell_type": "code",
   "execution_count": 57,
   "metadata": {
    "collapsed": false
   },
   "outputs": [
    {
     "name": "stdout",
     "output_type": "stream",
     "text": [
      "# %time 一次執行一個statement\n",
      "%time  print(\"hello\")\n",
      "# %timeit 執行一個statement n 次，求出平均執行時間\n",
      "%timeit -n 10 print(\"hello\")\n",
      "%timeit [x for x in range(100)]\n",
      "%run -m cProfile -s cumulative test.py\n",
      "# 使用 cProfile 模組\n",
      "%run -m cProfiletest.py\n",
      "# 使用 cProfile 模組\n",
      "%run -m cProfile test.py\n",
      "%run -m cProfile -s cumulative test.py\n",
      "%run -p -s cumulative test.py\n",
      "%run -p -s cumulative test.py\n",
      "%prun -l 7 -s cumulative test.py\n",
      "%prun -l 7 -s cumulative print(\"hello\")\n",
      "def printHello():\n",
      "    print(\"Hello\")\n",
      "    \n",
      "%prun -l 7 -s cumulative printHello\n",
      "def printHello():\n",
      "    print(\"Hello\")\n",
      "    \n",
      "%prun -l 7 -s cumulative printHello\n",
      "def printHello():\n",
      "    print(\"Hello\")\n",
      "    \n",
      "%prun -l 7 -s cumulative printHello\n",
      "# prun 指令，針對一個函式來計算\n",
      "def printHello():\n",
      "    print(\"Hello\")\n",
      "    \n",
      "%prun -l 7 -s cumulative printHello()\n",
      "# prun 指令，針對一個函式來計算\n",
      "def printHello():\n",
      "    print(\"Hello\")\n",
      "    \n",
      "%prun -l 7 -s cumulative printHello()\n",
      "# 針對一個或多個函式進行效能分析\n",
      "%lprun -f printHello()\n",
      "reload(sys)\n",
      "sys.reload(sys)\n",
      "import sys \n",
      "sys.reload(sys)\n",
      "import sys\n",
      "import imp\n",
      "imp.reload(sys)\n",
      "# prun 指令，針對一個函式來計算\n",
      "def printHello():\n",
      "    print(\"Hello\")\n",
      "    \n",
      "%prun -l 7 -s cumulative printHello()\n",
      "b?\n",
      "b?\n",
      "b = [1,2,3]\n",
      "b\n",
      "b?\n",
      "def add_number(a, b):\n",
      "    \"\"\"\n",
      "    Add two numbers together\n",
      "    \n",
      "    Returns\n",
      "    _______\n",
      "    \n",
      "    the sum: typeof arguments\n",
      "    \n",
      "    \"\"\"\n",
      "    return a + b\n",
      "add_number?\n",
      "add_number??\n",
      "max??\n",
      "# ?問號還可以用來搜尋IPython namespace\n",
      "import numpy as np\n",
      "np.*load*?\n",
      "%run test.py\n",
      "# -i 讓 test.py可以訪問IPython交互式環境(命稱: interactive)中定義的變數\n",
      "%run -i test.py\n",
      "%paste\n",
      "%cpaste\n",
      "# 顯示IPython的快速參考\n",
      "%quickref\n",
      "# 用 ? 可以查看 options\n",
      "%reset?\n",
      "# 顯示IPython的快速參考\n",
      "%quickref\n",
      "# 用 ? 可以查看 options\n",
      "%reset?\n",
      "# 顯示所有的魔術命令的詳細文件\n",
      "%magic\n",
      "# 以最新的異常跟蹤的底部進入交互式interpreter\n",
      "%debug\n",
      "# 列出指令歷史紀錄\n",
      "%hist\n",
      "# 在異常發生後自動進入調適器\n",
      "%pdb\n",
      "# 執行clip board中的代碼\n",
      "%paste\n",
      "# 打開特殊提示符號，以便手工黏貼等待執行的clip board中的代碼\n",
      "%cpaste\n",
      "# 刪除interactive命名空間中的全部變數\n",
      "%reset\n",
      "# 刪除interactive命名空間中的全部變數\n",
      "%reset\n",
      "# 刪除interactive命名空間中的全部變數\n",
      "%reset\n",
      "# 通過分頁器打印輸出Object\n",
      "%page Object\n",
      "# 執行腳本\n",
      "%run test.py\n",
      "# 透過cProfile執行statement，並打開分析器的輸出結果\n",
      "%prun print(\"Hello\")\n",
      "# 報告statement的執行時間\n",
      "%time print(\"Hello\")\n",
      "# 報告statement的平均執行時間，使用 -n 指定執行次數\n",
      "%timeit -n 1 print(\"Hello\")\n",
      "# 顯示interactive命名空間中定義的變數\n",
      "b = [1,2,3]\n",
      "%who\n",
      "# 顯示interactive命名空間中定義的變數\n",
      "%whos\n",
      "# 刪除變數，並清除其在IPython中的物件上的一切引用\n",
      "%xdel b\n",
      "%whos\n",
      "%history\n"
     ]
    }
   ],
   "source": [
    "%history"
   ]
  },
  {
   "cell_type": "code",
   "execution_count": 60,
   "metadata": {
    "collapsed": false
   },
   "outputs": [
    {
     "name": "stdout",
     "output_type": "stream",
     "text": [
      "Once deleted, variables cannot be recovered. Proceed (y/[n])? y\n"
     ]
    }
   ],
   "source": [
    "%reset"
   ]
  },
  {
   "cell_type": "markdown",
   "metadata": {},
   "source": [
    "### 紀錄輸入和輸出###"
   ]
  },
  {
   "cell_type": "code",
   "execution_count": 61,
   "metadata": {
    "collapsed": false
   },
   "outputs": [
    {
     "name": "stdout",
     "output_type": "stream",
     "text": [
      "Activating auto-logging. Current session state plus future input saved.\n",
      "Filename       : ipython_log.py\n",
      "Mode           : rotate\n",
      "Output logging : False\n",
      "Raw input log  : False\n",
      "Timestamping   : False\n",
      "State          : active\n"
     ]
    }
   ],
   "source": [
    "# 執行 %logstart 可開始記錄日誌\n",
    "%logstart"
   ]
  },
  {
   "cell_type": "code",
   "execution_count": 62,
   "metadata": {
    "collapsed": false
   },
   "outputs": [],
   "source": [
    "# 執行 %logstart 停止記錄日誌\n",
    "%logstop"
   ]
  },
  {
   "cell_type": "markdown",
   "metadata": {},
   "source": [
    "### 與操作系統互動###"
   ]
  },
  {
   "cell_type": "code",
   "execution_count": 63,
   "metadata": {
    "collapsed": false
   },
   "outputs": [
    {
     "name": "stdout",
     "output_type": "stream",
     "text": [
      " 磁碟區 C 中的磁碟是 OS\n",
      " 磁碟區序號:  5476-8005\n",
      "\n",
      " C:\\Users\\Wei\\Documents\\Dropbox\\Coding\\notebooks\\python for data analysis 的目錄\n",
      "\n",
      "2015/10/20  下午 02:58    <DIR>          .\n",
      "2015/10/20  下午 02:58    <DIR>          ..\n",
      "2015/10/20  上午 09:19    <DIR>          .ipynb_checkpoints\n",
      "2015/10/20  下午 02:58            57,854 3. IPython - 一種交互式計算和開發環境.ipynb\n",
      "2015/10/20  下午 02:54    <DIR>          3. IPython - 一種交互式計算和開發環境.ipynb3s7t39s0\n",
      "2015/10/20  下午 02:57             4,457 ipython_log.py\n",
      "2015/10/20  上午 11:00               597 ipython_log.py.001~\n",
      "2015/10/20  上午 09:53                15 test.py\n",
      "               4 個檔案          62,923 位元組\n",
      "               4 個目錄   1,519,685,632 位元組可用\n"
     ]
    }
   ],
   "source": [
    "# 在系統Shell中執行指令\n",
    "# !cmd\n",
    "!dir"
   ]
  },
  {
   "cell_type": "code",
   "execution_count": 64,
   "metadata": {
    "collapsed": false
   },
   "outputs": [
    {
     "data": {
      "text/plain": [
       "[' 磁碟區 C 中的磁碟是 OS',\n",
       " ' 磁碟區序號:  5476-8005',\n",
       " '',\n",
       " ' C:\\\\Users\\\\Wei\\\\Documents\\\\Dropbox\\\\Coding\\\\notebooks\\\\python for data analysis 的目錄',\n",
       " '',\n",
       " '2015/10/20  下午 02:58    <DIR>          .',\n",
       " '2015/10/20  下午 02:58    <DIR>          ..',\n",
       " '2015/10/20  上午 09:19    <DIR>          .ipynb_checkpoints',\n",
       " '2015/10/20  下午 02:58            57,854 3. IPython - 一種交互式計算和開發環境.ipynb',\n",
       " '2015/10/20  下午 02:54    <DIR>          3. IPython - 一種交互式計算和開發環境.ipynb3s7t39s0',\n",
       " '2015/10/20  下午 02:57             4,457 ipython_log.py',\n",
       " '2015/10/20  上午 11:00               597 ipython_log.py.001~',\n",
       " '2015/10/20  上午 09:53                15 test.py',\n",
       " '               4 個檔案          62,923 位元組',\n",
       " '               4 個目錄   1,519,661,056 位元組可用']"
      ]
     },
     "execution_count": 64,
     "metadata": {},
     "output_type": "execute_result"
    }
   ],
   "source": [
    "# 將stdout儲存為變數\n",
    "output = !dir\n",
    "output"
   ]
  },
  {
   "cell_type": "code",
   "execution_count": 65,
   "metadata": {
    "collapsed": false
   },
   "outputs": [
    {
     "name": "stdout",
     "output_type": "stream",
     "text": [
      " 磁碟區 C 中的磁碟是 OS\n",
      " 磁碟區序號:  5476-8005\n",
      "\n",
      " C:\\Users\\Wei\\Documents\\Dropbox\\Coding\\notebooks\\python for data analysis 的目錄\n",
      "\n",
      "2015/10/20  下午 02:58    <DIR>          .\n",
      "2015/10/20  下午 02:58    <DIR>          ..\n",
      "2015/10/20  上午 09:19    <DIR>          .ipynb_checkpoints\n",
      "2015/10/20  下午 02:58            57,854 3. IPython - 一種交互式計算和開發環境.ipynb\n",
      "2015/10/20  下午 02:54    <DIR>          3. IPython - 一種交互式計算和開發環境.ipynb3s7t39s0\n",
      "2015/10/20  下午 02:57             4,457 ipython_log.py\n",
      "2015/10/20  上午 11:00               597 ipython_log.py.001~\n",
      "2015/10/20  上午 09:53                15 test.py\n",
      "               4 個檔案          62,923 位元組\n",
      "               4 個目錄   1,519,685,632 位元組可用\n"
     ]
    }
   ],
   "source": [
    "# 定義alias\n",
    "%alias ll dir\n",
    "%ll"
   ]
  },
  {
   "cell_type": "code",
   "execution_count": 66,
   "metadata": {
    "collapsed": false
   },
   "outputs": [],
   "source": [
    "# 使用IPython的書籤系統\n",
    "%bookmark bookmarks"
   ]
  },
  {
   "cell_type": "code",
   "execution_count": 67,
   "metadata": {
    "collapsed": false
   },
   "outputs": [
    {
     "name": "stdout",
     "output_type": "stream",
     "text": [
      "C:\\temp\n",
      " 磁碟區 C 中的磁碟是 OS\n",
      " 磁碟區序號:  5476-8005\n",
      "\n",
      " C:\\temp 的目錄\n",
      "\n",
      "2015/10/15  下午 04:27    <DIR>          .\n",
      "2015/10/15  下午 04:27    <DIR>          ..\n",
      "2007/02/14  下午 04:23           405,153 20061229105715516.tif\n",
      "2008/02/12  下午 04:45           179,377 20061229105715516.xdw\n",
      "2013/11/17  下午 09:33    <DIR>          BTranslate\n",
      "2009/05/20  上午 10:23               990 client.p7b\n",
      "2010/07/05  下午 05:54             1,000 client.rar\n",
      "2012/12/08  上午 07:57             1,155 driverinst.log\n",
      "2012/12/08  上午 07:52             1,673 driverinst.log.bak\n",
      "2013/05/20  上午 11:00            32,467 fileupload.php\n",
      "2014/05/23  下午 10:17    <DIR>          Garmin\n",
      "2014/12/02  下午 04:03               774 html5_test.html\n",
      "2009/06/05  下午 02:00         1,878,888 install_flash_player.exe\n",
      "2007/12/28  下午 04:17            25,088 IQ答案.doc\n",
      "2009/02/08  下午 05:23             8,964 Mcdonalds(2009).ov2\n",
      "2013/11/17  下午 09:33    <DIR>          MM7\n",
      "2015/09/21  上午 10:06               536 MSI2fade.LOG\n",
      "2009/02/10  上午 08:41           514,521 Nokia 6100 2009-2-10.nfc\n",
      "2013/11/17  下午 09:34    <DIR>          PDF 2 Tiff\n",
      "2012/12/08  上午 07:57             2,408 printerinst.log\n",
      "2012/12/08  上午 07:52             6,255 printerinst.log.bak\n",
      "2012/08/16  上午 09:29                73 ProxyName.ini\n",
      "2010/06/22  下午 02:28             8,725 RPCSERR.LOG\n",
      "2014/10/24  下午 05:31    <DIR>          rs\n",
      "2003/01/18  下午 10:42           319,488 SniffUSB.exe\n",
      "2002/10/07  下午 03:09           749,568 SnoopyPro.exe\n",
      "2009/05/21  上午 11:46           937,891 TeamViewer3.rar\n",
      "2010/07/05  下午 05:58         2,907,960 TeamViewer_Setup.exe\n",
      "2012/12/08  上午 08:18             2,959 vncserver-sservice.log\n",
      "2013/11/17  下午 09:34    <DIR>          WD304\n",
      "2013/11/17  下午 09:34    <DIR>          伺服馬達選定\n",
      "2015/10/15  下午 04:30    <DIR>          大頭照\n",
      "2013/11/17  下午 09:34    <DIR>          小組工作日報表\n",
      "2010/12/03  上午 11:51           589,824 新增Microsoft Office Access 應用程式.mdb\n",
      "2013/11/17  下午 09:35    <DIR>          照片\n",
      "2013/11/17  下午 09:35    <DIR>          碎形\n",
      "2013/11/17  下午 09:35    <DIR>          網路監控軟體\n",
      "2007/09/24  上午 10:18           198,620 蚊子.mp3\n",
      "2013/11/17  下午 09:35    <DIR>          記事\n",
      "2013/11/17  下午 09:35    <DIR>          還原管理\n",
      "2010/01/21  下午 05:24                78 阿呆的blog- USB Sniffer試用心得.url\n",
      "              25 個檔案       8,774,435 位元組\n",
      "              16 個目錄   1,519,685,632 位元組可用\n"
     ]
    }
   ],
   "source": [
    "# 更動當下工作目錄\n",
    "%cd /temp\n",
    "!dir"
   ]
  },
  {
   "cell_type": "code",
   "execution_count": 68,
   "metadata": {
    "collapsed": false
   },
   "outputs": [
    {
     "name": "stdout",
     "output_type": "stream",
     "text": [
      "C:\\Users\\Wei\\Documents\\Dropbox\\Coding\\notebooks\\python for data analysis\n",
      " 磁碟區 C 中的磁碟是 OS\n",
      " 磁碟區序號:  5476-8005\n",
      "\n",
      " C:\\Users\\Wei\\Documents\\Dropbox\\Coding\\notebooks\\python for data analysis 的目錄\n",
      "\n",
      "2015/10/20  下午 02:58    <DIR>          .\n",
      "2015/10/20  下午 02:58    <DIR>          ..\n",
      "2015/10/20  上午 09:19    <DIR>          .ipynb_checkpoints\n",
      "2015/10/20  下午 02:58            57,854 3. IPython - 一種交互式計算和開發環境.ipynb\n",
      "2015/10/20  下午 02:54    <DIR>          3. IPython - 一種交互式計算和開發環境.ipynb3s7t39s0\n",
      "2015/10/20  下午 02:57             4,457 ipython_log.py\n",
      "2015/10/20  上午 11:00               597 ipython_log.py.001~\n",
      "2015/10/20  上午 09:53                15 test.py\n",
      "               4 個檔案          62,923 位元組\n",
      "               4 個目錄   1,519,685,632 位元組可用\n"
     ]
    }
   ],
   "source": [
    "%cd 'C:\\Users\\Wei\\Documents\\Dropbox\\Coding\\notebooks\\python for data analysis'\n",
    "!dir"
   ]
  },
  {
   "cell_type": "code",
   "execution_count": 69,
   "metadata": {
    "collapsed": false
   },
   "outputs": [
    {
     "name": "stdout",
     "output_type": "stream",
     "text": [
      " 磁碟區 C 中的磁碟是 OS\n",
      " 磁碟區序號:  5476-8005\n",
      "\n",
      " C:\\Users\\Wei\\Documents\\Dropbox\\Coding\\notebooks\\python for data analysis 的目錄\n",
      "\n",
      "2015/10/20  下午 02:58    <DIR>          .\n",
      "2015/10/20  下午 02:58    <DIR>          ..\n",
      "2015/10/20  上午 09:19    <DIR>          .ipynb_checkpoints\n",
      "2015/10/20  下午 02:58            57,854 3. IPython - 一種交互式計算和開發環境.ipynb\n",
      "2015/10/20  下午 02:54    <DIR>          3. IPython - 一種交互式計算和開發環境.ipynb3s7t39s0\n",
      "2015/10/20  下午 02:57             4,457 ipython_log.py\n",
      "2015/10/20  上午 11:00               597 ipython_log.py.001~\n",
      "2015/10/20  上午 09:53                15 test.py\n",
      "               4 個檔案          62,923 位元組\n",
      "               4 個目錄   1,519,685,632 位元組可用\n"
     ]
    }
   ],
   "source": [
    "%ll"
   ]
  },
  {
   "cell_type": "code",
   "execution_count": 70,
   "metadata": {
    "collapsed": false
   },
   "outputs": [
    {
     "data": {
      "text/plain": [
       "'C:\\\\Users\\\\Wei\\\\Documents\\\\Dropbox\\\\Coding\\\\notebooks\\\\python for data analysis'"
      ]
     },
     "execution_count": 70,
     "metadata": {},
     "output_type": "execute_result"
    }
   ],
   "source": [
    "# 輸出當下工作目錄\n",
    "%pwd"
   ]
  },
  {
   "cell_type": "code",
   "execution_count": 71,
   "metadata": {
    "collapsed": false
   },
   "outputs": [
    {
     "name": "stdout",
     "output_type": "stream",
     "text": [
      "c:\\temp\n"
     ]
    },
    {
     "data": {
      "text/plain": [
       "['~\\\\Documents\\\\Dropbox\\\\Coding\\\\notebooks\\\\python for data analysis']"
      ]
     },
     "execution_count": 71,
     "metadata": {},
     "output_type": "execute_result"
    }
   ],
   "source": [
    "# push 當下目錄，並跳轉目標目錄\n",
    "%pushd 'c:\\temp'\n",
    "%pwd\n",
    "%dirs"
   ]
  },
  {
   "cell_type": "code",
   "execution_count": 72,
   "metadata": {
    "collapsed": false
   },
   "outputs": [
    {
     "name": "stdout",
     "output_type": "stream",
     "text": [
      "C:\\Users\\Wei\\Documents\\Dropbox\\Coding\\notebooks\\python for data analysis\n",
      "popd -> ~\\Documents\\Dropbox\\Coding\\notebooks\\python for data analysis\n"
     ]
    },
    {
     "data": {
      "text/plain": [
       "[]"
      ]
     },
     "execution_count": 72,
     "metadata": {},
     "output_type": "execute_result"
    }
   ],
   "source": [
    "# pop並跳轉該目錄\n",
    "%popd\n",
    "%pwd\n",
    "%dirs"
   ]
  },
  {
   "cell_type": "code",
   "execution_count": 73,
   "metadata": {
    "collapsed": false
   },
   "outputs": [
    {
     "data": {
      "text/plain": [
       "[]"
      ]
     },
     "execution_count": 73,
     "metadata": {},
     "output_type": "execute_result"
    }
   ],
   "source": [
    "# 當下目錄stack的列表\n",
    "%dirs"
   ]
  },
  {
   "cell_type": "code",
   "execution_count": 74,
   "metadata": {
    "collapsed": false
   },
   "outputs": [
    {
     "name": "stdout",
     "output_type": "stream",
     "text": [
      "Directory history (kept in _dh)\n",
      "0: C:\\Users\\Wei\\Documents\\Dropbox\\Coding\\notebooks\\python for data analysis\n",
      "1: C:\\temp\n",
      "2: C:\\Users\\Wei\\Documents\\Dropbox\\Coding\\notebooks\\python for data analysis\n",
      "3: c:\\temp\n",
      "4: C:\\Users\\Wei\\Documents\\Dropbox\\Coding\\notebooks\\python for data analysis\n"
     ]
    }
   ],
   "source": [
    "# 目錄訪問歷史\n",
    "%dhist"
   ]
  },
  {
   "cell_type": "code",
   "execution_count": 75,
   "metadata": {
    "collapsed": false
   },
   "outputs": [
    {
     "data": {
      "text/plain": [
       "{'ALLUSERSPROFILE': 'C:\\\\ProgramData',\n",
       " 'ANDROID_HOME': 'D:\\\\Java\\\\Android\\\\SDK',\n",
       " 'ANDROID_HVPROTO': 'ddm',\n",
       " 'ANDROID_KEYSTORE_PASSWORD': 'Wei1144',\n",
       " 'ANDROID_SDK_HOME': 'D:\\\\Java\\\\Android\\\\SDK',\n",
       " 'APPDATA': 'C:\\\\Users\\\\Wei\\\\AppData\\\\Roaming',\n",
       " 'AVR32_HOME': 'C:\\\\WinAVR',\n",
       " 'CLASSPATH': '.;C:\\\\Program Files\\\\Java\\\\jdk1.8.0_45\\\\*;C:\\\\Program Files\\\\Java\\\\jdk1.8.0_45\\\\lib\\\\*;D:\\\\Java\\\\Android\\\\SDK\\\\tools\\\\lib\\\\*;D:\\\\Java\\\\GWT\\\\gwt-2.6.1\\\\*;D:\\\\Java\\\\eclipse\\\\plugins\\\\com.google.appengine.eclipse.sdkbundle_1.9.15\\\\appengine-java-sdk-1.9.15\\\\lib\\\\*;D:\\\\Java\\\\eclipse\\\\plugins\\\\com.google.appengine.eclipse.sdkbundle_1.9.15\\\\appengine-java-sdk-1.9.15\\\\lib\\\\user\\\\*;D:\\\\Java\\\\eclipse\\\\plugins\\\\com.google.appengine.eclipse.sdkbundle_1.9.15\\\\appengine-java-sdk-1.9.15\\\\lib\\\\opt\\\\user\\\\datanucleus\\\\v2\\\\*;D:\\\\Java\\\\eclipse\\\\plugins\\\\com.google.appengine.eclipse.sdkbundle_1.9.15\\\\appengine-java-sdk-1.9.15\\\\lib\\\\impl\\\\*;D:\\\\Java\\\\eclipse\\\\plugins\\\\com.google.appengine.eclipse.sdkbundle_1.9.15\\\\appengine-java-sdk-1.9.15\\\\lib\\\\agent\\\\*;src;war\\\\WEB-INF\\\\classes;D:\\\\Java\\\\eclipse\\\\plugins\\\\*;.\\\\WEB-INF\\\\lib\\\\*;',\n",
       " 'CLICOLOR': '1',\n",
       " 'COMMONPROGRAMFILES': 'C:\\\\Program Files\\\\Common Files',\n",
       " 'COMMONPROGRAMFILES(X86)': 'C:\\\\Program Files (x86)\\\\Common Files',\n",
       " 'COMMONPROGRAMW6432': 'C:\\\\Program Files\\\\Common Files',\n",
       " 'COMPUTERNAME': 'WEI-NB',\n",
       " 'COMSPEC': 'C:\\\\Windows\\\\system32\\\\cmd.exe',\n",
       " 'CONFIGSETROOT': 'C:\\\\Windows\\\\ConfigSetRoot',\n",
       " 'DATANUCLIEUS_HOME_V4': 'D:\\\\Java\\\\eclipse\\\\plugins\\\\org.datanucleus.ide.eclipse_4.0.0.release\\\\lib\\\\datanucleus-core-3.2.6.jar',\n",
       " 'DOCKER_HOME': 'D:\\\\Docker\\\\Boot2Docker for Windows',\n",
       " 'ECLIPSE_HOME': 'D:\\\\Java\\\\eclipse',\n",
       " 'EJDK_HOME': 'D:\\\\Java\\\\JDK_SE_Embedded',\n",
       " 'FP_NO_HOST_CHECK': 'NO',\n",
       " 'GAE_AGENT': 'D:\\\\Java\\\\eclipse\\\\plugins\\\\com.google.appengine.eclipse.sdkbundle_1.9.15\\\\appengine-java-sdk-1.9.15\\\\lib\\\\agent',\n",
       " 'GAE_HOME': 'D:\\\\Java\\\\eclipse\\\\plugins\\\\com.google.appengine.eclipse.sdkbundle_1.9.15\\\\appengine-java-sdk-1.9.15',\n",
       " 'GAE_LIB': 'D:\\\\Java\\\\eclipse\\\\plugins\\\\com.google.appengine.eclipse.sdkbundle_1.9.15\\\\appengine-java-sdk-1.9.15\\\\lib',\n",
       " 'GIT_HOME': 'C:\\\\Program Files (x86)\\\\git',\n",
       " 'GIT_PAGER': 'cat',\n",
       " 'GRADLE_HOME': 'D:\\\\Java\\\\Gradle',\n",
       " 'GROOVY_HOME': 'D:\\\\Java\\\\Groovy',\n",
       " 'GWT_HOME': 'D:\\\\Java\\\\GWT\\\\gwt-2.6.1',\n",
       " 'HEROKUPATH': 'C:\\\\Program Files (x86)\\\\Heroku',\n",
       " 'HOME': 'C:\\\\Users\\\\Wei',\n",
       " 'HOMEDRIVE': 'C:',\n",
       " 'HOMEPATH': '\\\\Users\\\\Wei',\n",
       " 'IPY_INTERRUPT_EVENT': '940',\n",
       " 'JAVA_HOME': 'C:\\\\Program Files\\\\Java\\\\jdk1.8.0_45',\n",
       " 'JPY_INTERRUPT_EVENT': '940',\n",
       " 'JPY_PARENT_PID': '928',\n",
       " 'LOCALAPPDATA': 'C:\\\\Users\\\\Wei\\\\AppData\\\\Local',\n",
       " 'LOGONSERVER': '\\\\\\\\WEI-NB',\n",
       " 'M2_HOME': 'D:\\\\Java\\\\Maven\\\\apache-maven',\n",
       " 'MAVEN_HOME': 'D:\\\\Java\\\\Maven',\n",
       " 'MONGODB_HOME': 'D:\\\\Mongo\\\\MongoDB\\\\Server\\\\3.0\\\\bin',\n",
       " 'MS_VISUAL_STUDIO _HOME': 'D:\\\\Microsoft Visual Studio 12.0',\n",
       " 'NODE_JS_HOME': 'D:\\\\NodeJS\\\\nodejs',\n",
       " 'NODE_PATH': 'C:\\\\Users\\\\Wei\\\\AppData\\\\Roaming\\\\npm\\\\node_modules',\n",
       " 'NOTEPAD++_HOME': 'C:\\\\Program Files (x86)\\\\Notepad++',\n",
       " 'NUMBER_OF_PROCESSORS': '2',\n",
       " 'OS': 'Windows_NT',\n",
       " 'PAGER': 'cat',\n",
       " 'PATH': 'C:\\\\ProgramData\\\\Oracle\\\\Java\\\\javapath;D:\\\\Python\\\\Lib\\\\site-packages\\\\PyQt5;.;C:\\\\Program Files\\\\Java\\\\jdk1.8.0_45\\\\bin;C:\\\\WinAVR\\\\bin;C:\\\\WinAVR\\\\utils\\\\bin;C:\\\\Windows\\\\system32;C:\\\\Windows;C:\\\\Windows\\\\System32\\\\Wbem;C:\\\\Windows\\\\System32\\\\WindowsPowerShell\\\\v1.0\\\\;C:\\\\Program Files\\\\WIDCOMM\\\\Bluetooth Software\\\\;C:\\\\Program Files\\\\WIDCOMM\\\\Bluetooth Software\\\\syswow64;D:\\\\Java\\\\Android\\\\SDK;D:\\\\Java\\\\Android\\\\SDK\\\\tools;D:\\\\Java\\\\Android\\\\SDK\\\\tools\\\\lib;D:\\\\Java\\\\Android\\\\SDK\\\\platform-tools;D:\\\\Java\\\\GWT\\\\gwt-2.6.1;D:\\\\Java\\\\eclipse\\\\plugins\\\\com.google.appengine.eclipse.sdkbundle_1.9.15\\\\appengine-java-sdk-1.9.15\\\\bin;D:\\\\Java\\\\Groovy\\\\bin;D:\\\\Java\\\\Gradle\\\\bin;D:\\\\Java\\\\Maven\\\\apache-maven\\\\bin;D:\\\\NodeJS\\\\nodejs\\\\;C:\\\\Program Files (x86)\\\\Heroku\\\\bin;C:\\\\Program Files (x86)\\\\git\\\\cmd;C:\\\\Program Files (x86)\\\\Skype\\\\Phone\\\\;C:\\\\Program Files (x86)\\\\Notepad++;D:\\\\Microsoft Visual Studio 12.0\\\\VC;C:\\\\Program Files (x86)\\\\Windows Kits\\\\8.1\\\\Windows Performance Toolkit\\\\;C:\\\\Program Files\\\\Microsoft SQL Server\\\\110\\\\Tools\\\\Binn\\\\;C:\\\\Program Files (x86)\\\\Microsoft SDKs\\\\TypeScript\\\\1.0\\\\;C:\\\\Program Files\\\\Microsoft SQL Server\\\\120\\\\Tools\\\\Binn\\\\;D:\\\\Java\\\\JDK_SE_Embedded\\\\bin;D:\\\\Docker\\\\Boot2Docker for Windows;D:\\\\Mongo\\\\MongoDB\\\\Server\\\\3.0\\\\bin;C:\\\\Users\\\\Wei\\\\AppData\\\\Roaming\\\\npm\\\\node_modules;;D:\\\\Python;D:\\\\Python\\\\Scripts;;C:\\\\Users\\\\Wei\\\\AppData\\\\Roaming\\\\npm',\n",
       " 'PATHEXT': '.COM;.EXE;.BAT;.CMD;.VBS;.VBE;.JS;.JSE;.WSF;.WSH;.MSC;.groovy;.gy',\n",
       " 'PROCESSOR_ARCHITECTURE': 'AMD64',\n",
       " 'PROCESSOR_IDENTIFIER': 'Intel64 Family 6 Model 23 Stepping 10, GenuineIntel',\n",
       " 'PROCESSOR_LEVEL': '6',\n",
       " 'PROCESSOR_REVISION': '170a',\n",
       " 'PROGRAMDATA': 'C:\\\\ProgramData',\n",
       " 'PROGRAMFILES': 'C:\\\\Program Files',\n",
       " 'PROGRAMFILES(X86)': 'C:\\\\Program Files (x86)',\n",
       " 'PROGRAMW6432': 'C:\\\\Program Files',\n",
       " 'PSMODULEPATH': 'C:\\\\Windows\\\\system32\\\\WindowsPowerShell\\\\v1.0\\\\Modules\\\\',\n",
       " 'PUBLIC': 'C:\\\\Users\\\\Public',\n",
       " 'PYTHON_HOME': 'D:\\\\Python',\n",
       " 'SESSIONNAME': 'Console',\n",
       " 'SYSTEMDRIVE': 'C:',\n",
       " 'SYSTEMROOT': 'C:\\\\Windows',\n",
       " 'TEMP': 'C:\\\\Users\\\\Wei\\\\AppData\\\\Local\\\\Temp',\n",
       " 'TERM': 'xterm-color',\n",
       " 'TMP': 'C:\\\\Users\\\\Wei\\\\AppData\\\\Local\\\\Temp',\n",
       " 'USERDOMAIN': 'Wei-NB',\n",
       " 'USERNAME': 'Wei',\n",
       " 'USERPROFILE': 'C:\\\\Users\\\\Wei',\n",
       " 'VS100COMNTOOLS': 'D:\\\\Microsoft Visual Studio 12.0\\\\Common7\\\\Tools\\\\',\n",
       " 'VS110COMNTOOLS': 'D:\\\\Microsoft Visual Studio 12.0\\\\Common7\\\\Tools\\\\',\n",
       " 'VS110COMNTOOLS_OLD': 'C:\\\\Program Files (x86)\\\\Microsoft Visual Studio 11.0\\\\Common7\\\\Tools\\\\',\n",
       " 'VS120COMNTOOLS': 'D:\\\\Microsoft Visual Studio 12.0\\\\Common7\\\\Tools\\\\',\n",
       " 'WIDCOMM_HOME': 'C:\\\\Program Files\\\\WIDCOMM\\\\Bluetooth Software',\n",
       " 'WINAVR_HOME': 'C:\\\\WinAVR',\n",
       " 'WINDIR': 'C:\\\\Windows'}"
      ]
     },
     "execution_count": 75,
     "metadata": {},
     "output_type": "execute_result"
    }
   ],
   "source": [
    "# dict型態的 系統環境常數\n",
    "%env"
   ]
  },
  {
   "cell_type": "markdown",
   "metadata": {},
   "source": [
    "### shell命令和別名###"
   ]
  },
  {
   "cell_type": "code",
   "execution_count": 76,
   "metadata": {
    "collapsed": false
   },
   "outputs": [
    {
     "name": "stdout",
     "output_type": "stream",
     "text": [
      " 磁碟區 C 中的磁碟是 OS\n",
      " 磁碟區序號:  5476-8005\n",
      "\n",
      " C:\\Users\\Wei\\Documents\\Dropbox\\Coding\\notebooks\\python for data analysis 的目錄\n",
      "\n",
      "2015/10/20  下午 02:58    <DIR>          .\n",
      "2015/10/20  下午 02:58    <DIR>          ..\n",
      "2015/10/20  上午 09:19    <DIR>          .ipynb_checkpoints\n",
      "2015/10/20  下午 02:58            57,854 3. IPython - 一種交互式計算和開發環境.ipynb\n",
      "2015/10/20  下午 02:54    <DIR>          3. IPython - 一種交互式計算和開發環境.ipynb3s7t39s0\n",
      "2015/10/20  下午 02:57             4,457 ipython_log.py\n",
      "2015/10/20  上午 11:00               597 ipython_log.py.001~\n",
      "2015/10/20  上午 09:53                15 test.py\n",
      "               4 個檔案          62,923 位元組\n",
      "               4 個目錄   1,519,685,632 位元組可用\n"
     ]
    }
   ],
   "source": [
    "# 以 !驚嘆號表示後續的指令要在shell中執行\n",
    "!dir"
   ]
  },
  {
   "cell_type": "code",
   "execution_count": 79,
   "metadata": {
    "collapsed": false
   },
   "outputs": [
    {
     "data": {
      "text/plain": [
       "[' 磁碟區 C 中的磁碟是 OS',\n",
       " ' 磁碟區序號:  5476-8005',\n",
       " '',\n",
       " ' C:\\\\Users\\\\Wei\\\\Documents\\\\Dropbox\\\\Coding\\\\notebooks\\\\python for data analysis 的目錄',\n",
       " '',\n",
       " '2015/10/20  下午 02:58    <DIR>          .',\n",
       " '2015/10/20  下午 02:58    <DIR>          ..',\n",
       " '2015/10/20  上午 09:19    <DIR>          .ipynb_checkpoints',\n",
       " '2015/10/20  下午 02:58            57,854 3. IPython - 一種交互式計算和開發環境.ipynb',\n",
       " '2015/10/20  下午 02:54    <DIR>          3. IPython - 一種交互式計算和開發環境.ipynb3s7t39s0',\n",
       " '2015/10/20  下午 02:57             4,457 ipython_log.py',\n",
       " '2015/10/20  上午 11:00               597 ipython_log.py.001~',\n",
       " '2015/10/20  上午 09:53                15 test.py',\n",
       " '               4 個檔案          62,923 位元組',\n",
       " '               4 個目錄   1,519,685,632 位元組可用']"
      ]
     },
     "execution_count": 79,
     "metadata": {},
     "output_type": "execute_result"
    }
   ],
   "source": [
    "# 將結果儲存到變數\n",
    "result = !dir\n",
    "result"
   ]
  },
  {
   "cell_type": "code",
   "execution_count": 80,
   "metadata": {
    "collapsed": false
   },
   "outputs": [
    {
     "name": "stdout",
     "output_type": "stream",
     "text": [
      " 磁碟區 C 中的磁碟是 OS\n",
      " 磁碟區序號:  5476-8005\n",
      "\n",
      " C:\\Users\\Wei\\Documents\\Dropbox\\Coding\\notebooks\\python for data analysis 的目錄\n",
      "\n",
      "2015/10/20  下午 02:58            57,854 3. IPython - 一種交互式計算和開發環境.ipynb\n",
      "2015/10/20  下午 02:54    <DIR>          3. IPython - 一種交互式計算和開發環境.ipynb3s7t39s0\n",
      "               1 個檔案          57,854 位元組\n",
      "               1 個目錄   1,519,685,632 位元組可用\n"
     ]
    }
   ],
   "source": [
    "# 用 $ 符號代表當下Python環境中的值\n",
    "foo = '3*.*'\n",
    "!dir $foo"
   ]
  },
  {
   "cell_type": "code",
   "execution_count": 81,
   "metadata": {
    "collapsed": false
   },
   "outputs": [
    {
     "name": "stdout",
     "output_type": "stream",
     "text": [
      " 磁碟區 C 中的磁碟是 OS\n",
      " 磁碟區序號:  5476-8005\n",
      "\n",
      " C:\\Users\\Wei\\Documents\\Dropbox\\Coding\\notebooks\\python for data analysis 的目錄\n",
      "\n",
      "2015/10/20  下午 02:58    <DIR>          .\n",
      "2015/10/20  下午 02:58    <DIR>          ..\n",
      "2015/10/20  上午 09:19    <DIR>          .ipynb_checkpoints\n",
      "2015/10/20  下午 02:58            57,854 3. IPython - 一種交互式計算和開發環境.ipynb\n",
      "2015/10/20  下午 02:54    <DIR>          3. IPython - 一種交互式計算和開發環境.ipynb3s7t39s0\n",
      "2015/10/20  下午 02:57             4,457 ipython_log.py\n",
      "2015/10/20  上午 11:00               597 ipython_log.py.001~\n",
      "2015/10/20  上午 09:53                15 test.py\n",
      "               4 個檔案          62,923 位元組\n",
      "               4 個目錄   1,519,685,632 位元組可用\n"
     ]
    }
   ],
   "source": [
    "# 定義alias\n",
    "%alias ll dir\n",
    "%ll"
   ]
  },
  {
   "cell_type": "code",
   "execution_count": 82,
   "metadata": {
    "collapsed": false
   },
   "outputs": [
    {
     "name": "stdout",
     "output_type": "stream",
     "text": [
      " 磁碟區 C 中的磁碟是 OS\n",
      " 磁碟區序號:  5476-8005\n",
      "\n",
      " C:\\Users\\Wei\\Documents\\Dropbox\\Coding\\notebooks\\python for data analysis 的目錄\n",
      "\n",
      "2015/10/20  下午 02:58    <DIR>          .\n",
      "2015/10/20  下午 02:58    <DIR>          ..\n",
      "2015/10/20  上午 09:19    <DIR>          .ipynb_checkpoints\n",
      "2015/10/20  下午 02:58            57,854 3. IPython - 一種交互式計算和開發環境.ipynb\n",
      "2015/10/20  下午 02:54    <DIR>          3. IPython - 一種交互式計算和開發環境.ipynb3s7t39s0\n",
      "2015/10/20  下午 02:57             4,457 ipython_log.py\n",
      "2015/10/20  上午 11:00               597 ipython_log.py.001~\n",
      "2015/10/20  上午 09:53                15 test.py\n",
      "               4 個檔案          62,923 位元組\n",
      "               4 個目錄   1,519,685,632 位元組可用\n"
     ]
    }
   ],
   "source": [
    "# 一次執行多條指令，只需要用 ; 隔開\n",
    "%ll"
   ]
  },
  {
   "cell_type": "markdown",
   "metadata": {},
   "source": [
    "### 目錄書籤系統###"
   ]
  },
  {
   "cell_type": "code",
   "execution_count": 83,
   "metadata": {
    "collapsed": true
   },
   "outputs": [],
   "source": [
    "# 記錄當下目錄為書籤\n",
    "# 書籤會被自動持久化\n",
    "%bookmark current"
   ]
  },
  {
   "cell_type": "code",
   "execution_count": 84,
   "metadata": {
    "collapsed": false
   },
   "outputs": [],
   "source": [
    "# 設定 /temp 為書籤 db\n",
    "%bookmark db /temp"
   ]
  },
  {
   "cell_type": "code",
   "execution_count": 85,
   "metadata": {
    "collapsed": false
   },
   "outputs": [
    {
     "ename": "SyntaxError",
     "evalue": "invalid syntax (<ipython-input-85-0d144908ef79>, line 2)",
     "output_type": "error",
     "traceback": [
      "\u001b[1;36m  File \u001b[1;32m\"<ipython-input-85-0d144908ef79>\"\u001b[1;36m, line \u001b[1;32m2\u001b[0m\n\u001b[1;33m    cd db\u001b[0m\n\u001b[1;37m        ^\u001b[0m\n\u001b[1;31mSyntaxError\u001b[0m\u001b[1;31m:\u001b[0m invalid syntax\n"
     ]
    }
   ],
   "source": [
    "# 跳轉到書籤 db\n",
    "cd db"
   ]
  },
  {
   "cell_type": "code",
   "execution_count": 86,
   "metadata": {
    "collapsed": false
   },
   "outputs": [
    {
     "data": {
      "text/plain": [
       "'C:\\\\Users\\\\Wei\\\\Documents\\\\Dropbox\\\\Coding\\\\notebooks\\\\python for data analysis'"
      ]
     },
     "execution_count": 86,
     "metadata": {},
     "output_type": "execute_result"
    }
   ],
   "source": [
    "%pwd"
   ]
  },
  {
   "cell_type": "code",
   "execution_count": 87,
   "metadata": {
    "collapsed": false
   },
   "outputs": [
    {
     "name": "stdout",
     "output_type": "stream",
     "text": [
      "Current bookmarks:\n",
      "bookmarks -> C:\\Users\\Wei\\Documents\\Dropbox\\Coding\\notebooks\\python for data analysis\n",
      "current   -> C:\\Users\\Wei\\Documents\\Dropbox\\Coding\\notebooks\\python for data analysis\n",
      "db        -> /temp\n"
     ]
    }
   ],
   "source": [
    "# 列出書籤\n",
    "%bookmark -l"
   ]
  },
  {
   "cell_type": "code",
   "execution_count": 88,
   "metadata": {
    "collapsed": false
   },
   "outputs": [
    {
     "ename": "SyntaxError",
     "evalue": "invalid syntax (<ipython-input-88-857ab0fdc592>, line 2)",
     "output_type": "error",
     "traceback": [
      "\u001b[1;36m  File \u001b[1;32m\"<ipython-input-88-857ab0fdc592>\"\u001b[1;36m, line \u001b[1;32m2\u001b[0m\n\u001b[1;33m    cd current\u001b[0m\n\u001b[1;37m             ^\u001b[0m\n\u001b[1;31mSyntaxError\u001b[0m\u001b[1;31m:\u001b[0m invalid syntax\n"
     ]
    }
   ],
   "source": [
    "# 跳轉到書籤 current\n",
    "cd current "
   ]
  },
  {
   "cell_type": "code",
   "execution_count": 89,
   "metadata": {
    "collapsed": false
   },
   "outputs": [
    {
     "data": {
      "text/plain": [
       "'C:\\\\Users\\\\Wei\\\\Documents\\\\Dropbox\\\\Coding\\\\notebooks\\\\python for data analysis'"
      ]
     },
     "execution_count": 89,
     "metadata": {},
     "output_type": "execute_result"
    }
   ],
   "source": [
    "%pwd"
   ]
  },
  {
   "cell_type": "markdown",
   "metadata": {},
   "source": [
    "## 軟件開發工具##"
   ]
  },
  {
   "cell_type": "markdown",
   "metadata": {},
   "source": [
    "### 交互式調試器(debugger)###"
   ]
  },
  {
   "cell_type": "code",
   "execution_count": 91,
   "metadata": {
    "collapsed": false
   },
   "outputs": [
    {
     "name": "stdout",
     "output_type": "stream",
     "text": [
      "> \u001b[1;32md:\\python\\lib\\site-packages\\ipython\\core\\compilerop.py\u001b[0m(100)\u001b[0;36mast_parse\u001b[1;34m()\u001b[0m\n",
      "\u001b[1;32m     99 \u001b[1;33m        and are passed to the built-in compile function.\"\"\"\n",
      "\u001b[0m\u001b[1;32m--> 100 \u001b[1;33m        \u001b[1;32mreturn\u001b[0m \u001b[0mcompile\u001b[0m\u001b[1;33m(\u001b[0m\u001b[0msource\u001b[0m\u001b[1;33m,\u001b[0m \u001b[0mfilename\u001b[0m\u001b[1;33m,\u001b[0m \u001b[0msymbol\u001b[0m\u001b[1;33m,\u001b[0m \u001b[0mself\u001b[0m\u001b[1;33m.\u001b[0m\u001b[0mflags\u001b[0m \u001b[1;33m|\u001b[0m \u001b[0mPyCF_ONLY_AST\u001b[0m\u001b[1;33m,\u001b[0m \u001b[1;36m1\u001b[0m\u001b[1;33m)\u001b[0m\u001b[1;33m\u001b[0m\u001b[0m\n",
      "\u001b[0m\u001b[1;32m    101 \u001b[1;33m\u001b[1;33m\u001b[0m\u001b[0m\n",
      "\u001b[0m\n",
      "ipdb> exit()\n"
     ]
    }
   ],
   "source": [
    "# 在錯誤發生的時候，%debug命令將會調用那個\"事後\"調試器，直接跳到引發異常的stack level\n",
    "%debug"
   ]
  },
  {
   "cell_type": "code",
   "execution_count": 92,
   "metadata": {
    "collapsed": false
   },
   "outputs": [
    {
     "name": "stdout",
     "output_type": "stream",
     "text": [
      "Automatic pdb calling has been turned OFF\n"
     ]
    }
   ],
   "source": [
    "# %pdb命令可以讓IPython在異常出現之後自動調用調試器\n",
    "%pdb"
   ]
  },
  {
   "cell_type": "markdown",
   "metadata": {},
   "source": [
    "### 測試代碼的執行時間###"
   ]
  },
  {
   "cell_type": "code",
   "execution_count": 93,
   "metadata": {
    "collapsed": false
   },
   "outputs": [
    {
     "name": "stdout",
     "output_type": "stream",
     "text": [
      "hello\n",
      "Wall time: 0 ns\n"
     ]
    }
   ],
   "source": [
    "# %time 一次執行一個statement\n",
    "%time  print(\"hello\")"
   ]
  },
  {
   "cell_type": "code",
   "execution_count": 94,
   "metadata": {
    "collapsed": false
   },
   "outputs": [
    {
     "name": "stdout",
     "output_type": "stream",
     "text": [
      "hello\n",
      "hello\n",
      "hello\n",
      "hello\n",
      "hello\n",
      "hello\n",
      "hello\n",
      "hello\n",
      "hello\n",
      "hello\n",
      "hello\n",
      "hello\n",
      "hello\n",
      "hello\n",
      "hello\n",
      "hello\n",
      "hello\n",
      "hello\n",
      "hello\n",
      "hello\n",
      "hello\n",
      "hello\n",
      "hello\n",
      "hello\n",
      "hello\n",
      "hello\n",
      "hello\n",
      "hello\n",
      "hello\n",
      "hello\n",
      "10 loops, best of 3: 7.43 µs per loop\n"
     ]
    }
   ],
   "source": [
    "# %timeit 執行一個statement n 次，求出平均執行時間\n",
    "%timeit -n 10 print(\"hello\")"
   ]
  },
  {
   "cell_type": "markdown",
   "metadata": {},
   "source": [
    "### 基本性能分析###"
   ]
  },
  {
   "cell_type": "code",
   "execution_count": 95,
   "metadata": {
    "collapsed": false
   },
   "outputs": [
    {
     "name": "stdout",
     "output_type": "stream",
     "text": [
      "100000 loops, best of 3: 7.47 µs per loop\n"
     ]
    }
   ],
   "source": [
    "%timeit [x for x in range(100)]"
   ]
  },
  {
   "cell_type": "code",
   "execution_count": 6,
   "metadata": {
    "collapsed": false
   },
   "outputs": [
    {
     "name": "stdout",
     "output_type": "stream",
     "text": [
      "Hello!\n",
      "         18 function calls in 0.000 seconds\n",
      "\n",
      "   Ordered by: standard name\n",
      "\n",
      "   ncalls  tottime  percall  cumtime  percall filename:lineno(function)\n",
      "        2    0.000    0.000    0.000    0.000 iostream.py:102(_check_mp_mode)\n",
      "        2    0.000    0.000    0.000    0.000 iostream.py:207(write)\n",
      "        2    0.000    0.000    0.000    0.000 iostream.py:93(_is_master_process)\n",
      "        1    0.000    0.000    0.000    0.000 test.py:1(<module>)\n",
      "        1    0.000    0.000    0.000    0.000 {built-in method exec}\n",
      "        2    0.000    0.000    0.000    0.000 {built-in method getpid}\n",
      "        2    0.000    0.000    0.000    0.000 {built-in method isinstance}\n",
      "        1    0.000    0.000    0.000    0.000 {built-in method print}\n",
      "        2    0.000    0.000    0.000    0.000 {built-in method time}\n",
      "        1    0.000    0.000    0.000    0.000 {method 'disable' of '_lsprof.Profiler' objects}\n",
      "        2    0.000    0.000    0.000    0.000 {method 'write' of '_io.StringIO' objects}\n",
      "\n",
      "\n"
     ]
    }
   ],
   "source": [
    "# 使用 cProfile 模組\n",
    "%run -m cProfile test.py"
   ]
  },
  {
   "cell_type": "code",
   "execution_count": 7,
   "metadata": {
    "collapsed": false
   },
   "outputs": [
    {
     "name": "stdout",
     "output_type": "stream",
     "text": [
      "Hello!\n",
      "         18 function calls in 0.000 seconds\n",
      "\n",
      "   Ordered by: standard name\n",
      "\n",
      "   ncalls  tottime  percall  cumtime  percall filename:lineno(function)\n",
      "        2    0.000    0.000    0.000    0.000 iostream.py:102(_check_mp_mode)\n",
      "        2    0.000    0.000    0.000    0.000 iostream.py:207(write)\n",
      "        2    0.000    0.000    0.000    0.000 iostream.py:93(_is_master_process)\n",
      "        1    0.000    0.000    0.000    0.000 test.py:1(<module>)\n",
      "        1    0.000    0.000    0.000    0.000 {built-in method exec}\n",
      "        2    0.000    0.000    0.000    0.000 {built-in method getpid}\n",
      "        2    0.000    0.000    0.000    0.000 {built-in method isinstance}\n",
      "        1    0.000    0.000    0.000    0.000 {built-in method print}\n",
      "        2    0.000    0.000    0.000    0.000 {built-in method time}\n",
      "        1    0.000    0.000    0.000    0.000 {method 'disable' of '_lsprof.Profiler' objects}\n",
      "        2    0.000    0.000    0.000    0.000 {method 'write' of '_io.StringIO' objects}\n",
      "\n",
      "\n"
     ]
    }
   ],
   "source": [
    "# cumulative\n",
    "%run -m cProfile -s cumulative test.py"
   ]
  },
  {
   "cell_type": "code",
   "execution_count": 9,
   "metadata": {
    "collapsed": false
   },
   "outputs": [
    {
     "name": "stdout",
     "output_type": "stream",
     "text": [
      "Hello!\n",
      " "
     ]
    }
   ],
   "source": [
    "# -p 選項\n",
    "%run -p -s cumulative test.py"
   ]
  },
  {
   "cell_type": "code",
   "execution_count": 22,
   "metadata": {
    "collapsed": false
   },
   "outputs": [
    {
     "name": "stdout",
     "output_type": "stream",
     "text": [
      "Hello\n",
      " "
     ]
    }
   ],
   "source": [
    "# prun 指令，針對一個函式來計算\n",
    "def printHello():\n",
    "    print(\"Hello\")\n",
    "    \n",
    "%prun -l 7 -s cumulative printHello()"
   ]
  },
  {
   "cell_type": "code",
   "execution_count": 17,
   "metadata": {
    "collapsed": false
   },
   "outputs": [
    {
     "name": "stderr",
     "output_type": "stream",
     "text": [
      "ERROR: Line magic function `%lprun` not found.\n"
     ]
    }
   ],
   "source": [
    "# 針對一個或多個函式進行效能分析\n",
    "# %lprun -f printHello()"
   ]
  },
  {
   "cell_type": "code",
   "execution_count": 21,
   "metadata": {
    "collapsed": false
   },
   "outputs": [
    {
     "name": "stdout",
     "output_type": "stream",
     "text": [
      "<module 'sys' (built-in)>\n"
     ]
    }
   ],
   "source": [
    "import sys\n",
    "import imp\n",
    "imp.reload(sys)"
   ]
  }
 ],
 "metadata": {
  "kernelspec": {
   "display_name": "Python 3",
   "language": "python",
   "name": "python3"
  },
  "language_info": {
   "codemirror_mode": {
    "name": "ipython",
    "version": 3
   },
   "file_extension": ".py",
   "mimetype": "text/x-python",
   "name": "python",
   "nbconvert_exporter": "python",
   "pygments_lexer": "ipython3",
   "version": "3.6.0"
  }
 },
 "nbformat": 4,
 "nbformat_minor": 0
}
